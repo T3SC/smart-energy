{
 "cells": [
  {
   "cell_type": "code",
   "execution_count": 23,
   "metadata": {
    "scrolled": false
   },
   "outputs": [],
   "source": [
    "#!/usr/bin/env python\n",
    "# -*- coding: utf-8 -*-\n",
    "\"\"\"\n",
    "@author: omayr\n",
    "@description: POC: Exploratody Analysis of CampusKlubi Sensor Data\n",
    "\"\"\"\n",
    "\n",
    "import pandas as pd\n",
    "import numpy as np\n",
    "import matplotlib.pyplot as plt\n",
    "from os import listdir\n",
    "from os import path\n",
    "\n",
    "def read_file():\n",
    "    \n",
    "    p = str(path.dirname(path.abspath(\"__file__\")))+\"/data/sample/\"\n",
    "    files = [f for f in listdir(p) if path.isfile(path.join(p,f))]\n",
    "    cols = ['utc_org_rec_time']\n",
    "    cols.extend([x.split('.')[0] for x in files])\n",
    "    data = pd.DataFrame()\n",
    "    \n",
    "    for file in files:\n",
    "        temp = pd.read_csv(\"data/sample/\"+file)\n",
    "        data = pd.concat((data,temp[['value']]),axis=1)\n",
    "\n",
    "    data = pd.concat((temp[['utc_org_rec_time']],data),axis=1)\n",
    "\n",
    "    data['utc_org_rec_time'] = temp['utc_org_rec_time']\n",
    "    data['utc_org_rec_time'] = pd.to_datetime(data['utc_org_rec_time'])\n",
    "    data['utc_org_rec_time'] = pd.DatetimeIndex(data['utc_org_rec_time'])\n",
    "    \n",
    "    data.columns = ['time', 'AFCS', 'AQ', 'ART', 'CS', 'CV', 'EAT', 'HV', 'PI', 'RT', 'STATUS']\n",
    "    \n",
    "    return data"
   ]
  },
  {
   "cell_type": "markdown",
   "metadata": {},
   "source": [
    "# Sensor Abbreviation Legend\n",
    "AFCS : Airflow cooking setpoint\n",
    "AQ   : Air Quality\n",
    "ART  : Average Root Temperature\n",
    "CS   : Cooling Setpoint\n",
    "CV   : Cooling Valve\n",
    "EAT  : Exhaust Air Temperature\n",
    "HV   : Heating Valve"
   ]
  },
  {
   "cell_type": "code",
   "execution_count": 24,
   "metadata": {},
   "outputs": [
    {
     "name": "stdout",
     "output_type": "stream",
     "text": [
      "            AFCS        AQ       ART        CS        CV       EAT        HV  \\\n",
      "AFCS    1.000000 -0.066973 -0.141316 -0.017998 -0.590555 -0.092310  0.052686   \n",
      "AQ     -0.066973  1.000000  0.474411  0.106075  0.335720  0.408118 -0.255684   \n",
      "ART    -0.141316  0.474411  1.000000  0.203085  0.414979  0.694713 -0.580702   \n",
      "CS     -0.017998  0.106075  0.203085  1.000000  0.051948  0.129325 -0.145225   \n",
      "CV     -0.590555  0.335720  0.414979  0.051948  1.000000  0.297652 -0.151107   \n",
      "EAT    -0.092310  0.408118  0.694713  0.129325  0.297652  1.000000 -0.377514   \n",
      "HV      0.052686 -0.255684 -0.580702 -0.145225 -0.151107 -0.377514  1.000000   \n",
      "PI     -0.145723  0.444992  0.805919  0.274445  0.417943  0.569339 -0.358381   \n",
      "RT     -0.141316  0.474411  1.000000  0.203085  0.414979  0.694713 -0.580702   \n",
      "STATUS -0.145723  0.444992  0.805919  0.274445  0.417943  0.569339 -0.358381   \n",
      "\n",
      "              PI        RT    STATUS  \n",
      "AFCS   -0.145723 -0.141316 -0.145723  \n",
      "AQ      0.444992  0.474411  0.444992  \n",
      "ART     0.805919  1.000000  0.805919  \n",
      "CS      0.274445  0.203085  0.274445  \n",
      "CV      0.417943  0.414979  0.417943  \n",
      "EAT     0.569339  0.694713  0.569339  \n",
      "HV     -0.358381 -0.580702 -0.358381  \n",
      "PI      1.000000  0.805919  1.000000  \n",
      "RT      0.805919  1.000000  0.805919  \n",
      "STATUS  1.000000  0.805919  1.000000  \n"
     ]
    },
    {
     "data": {
      "image/png": "[encoded data removed]",
      "text/plain": [
       "<matplotlib.figure.Figure at 0x11338e110>"
      ]
     },
     "metadata": {},
     "output_type": "display_data"
    }
   ],
   "source": [
    "def visualize_corr():\n",
    "\n",
    "    data = read_file()\n",
    "    cd = data.corr()\n",
    "    print cd\n",
    "\n",
    "    plt.matshow(data.corr())\n",
    "    plt.show()\n",
    "\n",
    "visualize_corr()"
   ]
  },
  {
   "cell_type": "code",
   "execution_count": null,
   "metadata": {
    "collapsed": true
   },
   "outputs": [],
   "source": []
  }
 ],
 "metadata": {
  "kernelspec": {
   "display_name": "Python 2",
   "language": "python",
   "name": "python2"
  },
  "language_info": {
   "codemirror_mode": {
    "name": "ipython",
    "version": 2
   },
   "file_extension": ".py",
   "mimetype": "text/x-python",
   "name": "python",
   "nbconvert_exporter": "python",
   "pygments_lexer": "ipython2",
   "version": "2.7.13"
  }
 },
 "nbformat": 4,
 "nbformat_minor": 2
}
