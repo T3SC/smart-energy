{
 "cells": [
  {
   "cell_type": "code",
   "execution_count": null,
   "metadata": {
    "collapsed": true
   },
   "outputs": [],
   "source": [
    "#!/usr/bin/env python\n",
    "# -*- coding: utf-8 -*-\n",
    "\"\"\"\n",
    "@author: omayr\n",
    "@description: POC: Exploratody Analysis of CampusKlubi Sensor Data\n",
    "\"\"\"\n",
    "\n",
    "import pandas as pd\n",
    "import numpy as np\n",
    "import matplotlib.pyplot as plt\n",
    "from os import listdir\n",
    "from os import path\n",
    "\n",
    "def read_file():\n",
    "\n",
    "    p = str(path.dirname(path.abspath(__file__)))+\"/data/sample/\"\n",
    "    files = [f for f in listdir(p) if path.isfile(path.join(p,f))]\n",
    "    cols = ['utc_org_rec_time']\n",
    "    cols.extend([x.split('.')[0] for x in files])\n",
    "\n",
    "    data = pd.DataFrame()\n",
    "\n",
    "    for file in files:\n",
    "        temp = pd.read_csv(\"data/sample/\"+file)\n",
    "        data = pd.concat((data,temp[['value']]),axis=1)\n",
    "\n",
    "    data = pd.concat((temp[['utc_org_rec_time']],data),axis=1)\n",
    "\n",
    "    data['utc_org_rec_time'] = temp['utc_org_rec_time']\n",
    "    data['utc_org_rec_time'] = pd.to_datetime(data['utc_org_rec_time'])\n",
    "    data['utc_org_rec_time'] = pd.DatetimeIndex(data['utc_org_rec_time'])\n",
    "\n",
    "    data.columns = cols\n",
    "\n",
    "    #print data[:10]\n",
    "    visualize_corr(data)\n",
    "\n",
    "def visualize_corr(data):\n",
    "\n",
    "    #data = data.drop(['utc_org_rec_time','room_temperature_1710876'],axis=1)\n",
    "    cd = data.corr()\n",
    "    print \"hello\"\n",
    "\n",
    "    plt.matshow(data.corr())\n",
    "    plt.show()\n",
    "\n",
    "\n",
    "def main():\n",
    "\n",
    "    X,y = read_file()\n",
    "\n",
    "if __name__ == \"__main__\": main()"
   ]
  }
 ],
 "metadata": {
  "kernelspec": {
   "display_name": "Python 2",
   "language": "python",
   "name": "python2"
  },
  "language_info": {
   "codemirror_mode": {
    "name": "ipython",
    "version": 2
   },
   "file_extension": ".py",
   "mimetype": "text/x-python",
   "name": "python",
   "nbconvert_exporter": "python",
   "pygments_lexer": "ipython2",
   "version": "2.7.13"
  }
 },
 "nbformat": 4,
 "nbformat_minor": 2
}
